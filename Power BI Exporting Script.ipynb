{
 "cells": [
  {
   "cell_type": "markdown",
   "id": "ce8d3a45",
   "metadata": {},
   "source": [
    "# Agents"
   ]
  },
  {
   "cell_type": "code",
   "execution_count": null,
   "id": "47aabccf",
   "metadata": {},
   "outputs": [],
   "source": [
    "# The following code to create a dataframe and remove duplicated rows is always executed and acts as a preamble for your script: \n",
    "\n",
    "# dataset = pandas.DataFrame(Terminal_Id, Brands, Models, currentSoftWareVersion, TimeDiff, AgentTitle, Bank, Total Mablagh, Total Tedad, Karmozd Income, Bank Income, ChargeIncome, BillIncome, Cost of Roll, Monthly Cost, TotalCost, TotalIncome, Profit, Profit Category, Total Profit Category)\n",
    "# dataset = dataset.drop_duplicates()\n",
    "\n",
    "# Paste or type your script code here:\n",
    "import numpy as np\n",
    "agents = dataset['AgentTitle'].unique()\n",
    "for agent in agents:\n",
    "\n",
    "    length = len(dataset[dataset['AgentTitle'] == agent])\n",
    "    if length <= 30000:\n",
    "        dataset.to_excel(f'N:\\\\@SEP\\\\Planning & Budgeting\\\\procedure\\\\Stat\\\\1. اداره آمار و تحلیل داده\\\\3. گزارش های ماهیانه\\\\M09- گزارش سوددهی ترمینال ها\\\\1402-10\\\\Exports - agents\\\\{agent}.xlsx', index=False)\n",
    "    else:\n",
    "        parts = np.array_split(dataset, 5)\n",
    "    # for i, part in enumerate(parts):\n",
    "    #         part.to_excel(f'N:\\\\@SEP\\\\Planning & Budgeting\\\\procedure\\\\Stat\\\\1. اداره آمار و تحلیل داده\\\\3. گزارش های ماهیانه\\\\M09- گزارش سوددهی ترمینال ها\\\\1402-10\\\\Exports\\\\{agent[0]}, Part {i+1}.xlsx', index=False)\n",
    "        with pandas.ExcelWriter(f'N:\\\\@SEP\\\\Planning & Budgeting\\\\procedure\\\\Stat\\\\1. اداره آمار و تحلیل داده\\\\3. گزارش های ماهیانه\\\\M09- گزارش سوددهی ترمینال ها\\\\1402-10\\\\Exports - agents\\\\{agent}.xlsx') as writer:\n",
    "    # Write each dataframe to a separate sheet\n",
    "            parts[0].to_excel(writer, sheet_name='Part1', index=False)\n",
    "            parts[1].to_excel(writer, sheet_name='Part2', index=False)\n",
    "            parts[2].to_excel(writer, sheet_name='Part3', index=False)\n",
    "            parts[3].to_excel(writer, sheet_name='Part4', index=False)\n",
    "            parts[4].to_excel(writer, sheet_name='Part5', index=False)\n",
    "\n",
    "agent.clear()\n",
    "\n",
    "\n",
    "\n",
    "\n",
    "\n",
    "\n",
    "\n"
   ]
  },
  {
   "cell_type": "markdown",
   "id": "c69ccf64",
   "metadata": {},
   "source": [
    "# Pivot"
   ]
  },
  {
   "cell_type": "code",
   "execution_count": 1,
   "id": "cdc777a1",
   "metadata": {},
   "outputs": [
    {
     "ename": "NameError",
     "evalue": "name 'dataset' is not defined",
     "output_type": "error",
     "traceback": [
      "\u001b[1;31m---------------------------------------------------------------------------\u001b[0m",
      "\u001b[1;31mNameError\u001b[0m                                 Traceback (most recent call last)",
      "Cell \u001b[1;32mIn[1], line 2\u001b[0m\n\u001b[0;32m      1\u001b[0m \u001b[38;5;28;01mimport\u001b[39;00m \u001b[38;5;21;01mnumpy\u001b[39;00m \u001b[38;5;28;01mas\u001b[39;00m \u001b[38;5;21;01mnp\u001b[39;00m\n\u001b[1;32m----> 2\u001b[0m agents \u001b[38;5;241m=\u001b[39m dataset[\u001b[38;5;124m'\u001b[39m\u001b[38;5;124mAgentTitle\u001b[39m\u001b[38;5;124m'\u001b[39m]\u001b[38;5;241m.\u001b[39munique()\n\u001b[0;32m      3\u001b[0m \u001b[38;5;28;01mfor\u001b[39;00m agent \u001b[38;5;129;01min\u001b[39;00m agents:\n\u001b[0;32m      4\u001b[0m     pivot \u001b[38;5;241m=\u001b[39m pandas\u001b[38;5;241m.\u001b[39mpivot_table(dataset, index\u001b[38;5;241m=\u001b[39m\u001b[38;5;124m'\u001b[39m\u001b[38;5;124mCustomerCode\u001b[39m\u001b[38;5;124m'\u001b[39m, values\u001b[38;5;241m=\u001b[39m[\u001b[38;5;124m'\u001b[39m\u001b[38;5;124mTotal Tedad\u001b[39m\u001b[38;5;124m'\u001b[39m, \u001b[38;5;124m'\u001b[39m\u001b[38;5;124mTotal Mablagh\u001b[39m\u001b[38;5;124m'\u001b[39m, \u001b[38;5;124m'\u001b[39m\u001b[38;5;124mTotalCost\u001b[39m\u001b[38;5;124m'\u001b[39m, \u001b[38;5;124m'\u001b[39m\u001b[38;5;124mTotalIncome\u001b[39m\u001b[38;5;124m'\u001b[39m, \u001b[38;5;124m'\u001b[39m\u001b[38;5;124mProfit\u001b[39m\u001b[38;5;124m'\u001b[39m, \u001b[38;5;124m'\u001b[39m\u001b[38;5;124mترمینال‌های کاملا ضررده\u001b[39m\u001b[38;5;124m'\u001b[39m, \u001b[38;5;124m'\u001b[39m\u001b[38;5;124mترمینال‌های ضررده\u001b[39m\u001b[38;5;124m'\u001b[39m, \u001b[38;5;124m'\u001b[39m\u001b[38;5;124mترمینال های سر به سر\u001b[39m\u001b[38;5;124m'\u001b[39m, \u001b[38;5;124m'\u001b[39m\u001b[38;5;124mترمینال‌های ناکارا\u001b[39m\u001b[38;5;124m'\u001b[39m, \u001b[38;5;124m'\u001b[39m\u001b[38;5;124mترمینال های سوددهی پایین\u001b[39m\u001b[38;5;124m'\u001b[39m, \u001b[38;5;124m'\u001b[39m\u001b[38;5;124mترمینال های سوددهی بالا\u001b[39m\u001b[38;5;124m'\u001b[39m, \u001b[38;5;124m'\u001b[39m\u001b[38;5;124mترمینال های فوق سودده\u001b[39m\u001b[38;5;124m'\u001b[39m], aggfunc\u001b[38;5;241m=\u001b[39mnp\u001b[38;5;241m.\u001b[39msum)\n",
      "\u001b[1;31mNameError\u001b[0m: name 'dataset' is not defined"
     ]
    }
   ],
   "source": [
    "import numpy as np\n",
    "agents = dataset['AgentTitle'].unique()\n",
    "for agent in agents:\n",
    "    pivot = pandas.pivot_table(dataset, index='CustomerCode', values=['Total Tedad', 'Total Mablagh', 'TotalCost', 'TotalIncome', 'Profit', 'ترمینال‌های کاملا ضررده', 'ترمینال‌های ضررده', 'ترمینال های سر به سر', 'ترمینال‌های ناکارا', 'ترمینال های سوددهی پایین', 'ترمینال های سوددهی بالا', 'ترمینال های فوق سودده'], aggfunc=np.sum)\n",
    "    length = len(dataset[dataset['AgentTitle'] == agent])\n",
    "    if length <= 30000:\n",
    "         with pandas.ExcelWriter(f'N:\\\\@SEP\\\\Planning & Budgeting\\\\procedure\\\\Stat\\\\1. اداره آمار و تحلیل داده\\\\3. گزارش های ماهیانه\\\\M09- گزارش سوددهی ترمینال ها\\\\1402-10\\\\Exports - CustomerCodes\\\\{agent} - CustomerCodes.xlsx') as writer:\n",
    "    # Write each dataframe to a separate sheet\n",
    "            dataset.to_excel(writer, sheet_name='Terminals', index=False)\n",
    "            pivot.to_excel(writer, sheet_name='Pivot_CustomerCodes')\n",
    "    else:\n",
    "        parts = np.array_split(dataset, 5)\n",
    "        with pandas.ExcelWriter(f'N:\\\\@SEP\\\\Planning & Budgeting\\\\procedure\\\\Stat\\\\1. اداره آمار و تحلیل داده\\\\3. گزارش های ماهیانه\\\\M09- گزارش سوددهی ترمینال ها\\\\1402-10\\\\Exports - CustomerCodes\\\\{agent} - CustomerCodes.xlsx') as writer:\n",
    "    # Write each dataframe to a separate sheet\n",
    "            parts[0].to_excel(writer, sheet_name='Part1', index=False)\n",
    "            parts[1].to_excel(writer, sheet_name='Part2', index=False)\n",
    "            parts[2].to_excel(writer, sheet_name='Part3', index=False)\n",
    "            parts[3].to_excel(writer, sheet_name='Part4', index=False)\n",
    "            parts[4].to_excel(writer, sheet_name='Part5', index=False)\n",
    "            pivot.to_excel(writer, sheet_name='Pivot_CustomerCodes')\n",
    "\n",
    "agent.clear()"
   ]
  },
  {
   "cell_type": "code",
   "execution_count": null,
   "id": "f4f13b80",
   "metadata": {},
   "outputs": [],
   "source": []
  },
  {
   "cell_type": "code",
   "execution_count": null,
   "id": "d03c81cd",
   "metadata": {},
   "outputs": [],
   "source": []
  }
 ],
 "metadata": {
  "kernelspec": {
   "display_name": "Python 3 (ipykernel)",
   "language": "python",
   "name": "python3"
  },
  "language_info": {
   "codemirror_mode": {
    "name": "ipython",
    "version": 3
   },
   "file_extension": ".py",
   "mimetype": "text/x-python",
   "name": "python",
   "nbconvert_exporter": "python",
   "pygments_lexer": "ipython3",
   "version": "3.11.5"
  }
 },
 "nbformat": 4,
 "nbformat_minor": 5
}
