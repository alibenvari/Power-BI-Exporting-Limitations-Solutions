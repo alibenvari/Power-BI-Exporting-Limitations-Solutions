{
 "cells": [
  {
   "cell_type": "markdown",
   "id": "c69ccf64",
   "metadata": {},
   "source": [
    "# Export"
   ]
  },
  {
   "cell_type": "code",
   "execution_count": null,
   "id": "cdc777a1",
   "metadata": {},
   "outputs": [],
   "source": [
    "import numpy as np\n",
    "agents = dataset['AgentTitle'].unique()\n",
    "for agent in agents:\n",
    "    pivot = pandas.pivot_table(dataset, index='CustomerCode', values=['Total Tedad', 'Total Mablagh', 'TotalCost', 'TotalIncome', 'Profit', 'ترمینال‌های کاملا ضررده', 'ترمینال‌های ضررده', 'ترمینال های سر به سر', 'ترمینال‌های ناکارا', 'ترمینال های سوددهی پایین', 'ترمینال های سوددهی بالا', 'ترمینال های فوق سودده'], aggfunc=np.sum)\n",
    "    length = len(dataset[dataset['AgentTitle'] == agent])\n",
    "    if length <= 30000:\n",
    "         with pandas.ExcelWriter(f'{Output Address}{agent} - CustomerCodes.xlsx') as writer:\n",
    "    # Write each dataframe to a separate sheet\n",
    "            dataset.to_excel(writer, sheet_name='Terminals', index=False)\n",
    "            pivot.to_excel(writer, sheet_name='Pivot_CustomerCodes')\n",
    "    else:\n",
    "        parts = np.array_split(dataset, 5)\n",
    "        with pandas.ExcelWriter(f'{Output Address}{agent} - CustomerCodes.xlsx') as writer:\n",
    "    # Write each dataframe to a separate sheet\n",
    "            parts[0].to_excel(writer, sheet_name='Part1', index=False)\n",
    "            parts[1].to_excel(writer, sheet_name='Part2', index=False)\n",
    "            parts[2].to_excel(writer, sheet_name='Part3', index=False)\n",
    "            parts[3].to_excel(writer, sheet_name='Part4', index=False)\n",
    "            parts[4].to_excel(writer, sheet_name='Part5', index=False)\n",
    "            pivot.to_excel(writer, sheet_name='Pivot_CustomerCodes')\n",
    "\n",
    "agent.clear()"
   ]
  },
  {
   "cell_type": "code",
   "execution_count": null,
   "id": "f4f13b80",
   "metadata": {},
   "outputs": [],
   "source": []
  },
  {
   "cell_type": "code",
   "execution_count": null,
   "id": "d03c81cd",
   "metadata": {},
   "outputs": [],
   "source": []
  }
 ],
 "metadata": {
  "kernelspec": {
   "display_name": "Python 3 (ipykernel)",
   "language": "python",
   "name": "python3"
  },
  "language_info": {
   "codemirror_mode": {
    "name": "ipython",
    "version": 3
   },
   "file_extension": ".py",
   "mimetype": "text/x-python",
   "name": "python",
   "nbconvert_exporter": "python",
   "pygments_lexer": "ipython3",
   "version": "3.11.5"
  }
 },
 "nbformat": 4,
 "nbformat_minor": 5
}
